{
 "cells": [
  {
   "cell_type": "code",
   "execution_count": 1,
   "metadata": {},
   "outputs": [],
   "source": [
    "import PyPDF2\n",
    "\n",
    "pdfFile1 = open('C:\\\\Users\\\\Avengers\\\\PythonDir\\\\InputDataFiles\\\\meetingminutes1.pdf', 'rb')\n",
    "pdfFile2 = open('C:\\\\Users\\\\Avengers\\\\PythonDir\\\\InputDataFiles\\\\meetingminutes2.pdf', 'rb')\n",
    "\n",
    "pdfReader1 = PyPDF2.PdfFileReader(pdfFile1)\n",
    "pdfReader2 = PyPDF2.PdfFileReader(pdfFile2)\n",
    "\n",
    "writer=PyPDF2.PdfFileWriter()\n",
    "\n",
    "for pageNum in range(pdfReader1.numPages):\n",
    "    page=pdfReader1.getPage(pageNum)\n",
    "    writer.addPage(page)\n",
    "    \n",
    "for pageNum in range(pdfReader2.numPages):\n",
    "    page=pdfReader2.getPage(pageNum)\n",
    "    writer.addPage(page)  \n",
    "    \n",
    "outputFile = open('combinedminutes.pdf','wb')\n",
    "writer.write(outputFile) \n",
    "\n",
    "outputFile.close()\n",
    "pdfFile1.close()\n",
    "pdfFile2.close()"
   ]
  }
 ],
 "metadata": {
  "kernelspec": {
   "display_name": "Python 3 (ipykernel)",
   "language": "python",
   "name": "python3"
  },
  "language_info": {
   "codemirror_mode": {
    "name": "ipython",
    "version": 3
   },
   "file_extension": ".py",
   "mimetype": "text/x-python",
   "name": "python",
   "nbconvert_exporter": "python",
   "pygments_lexer": "ipython3",
   "version": "3.9.7"
  }
 },
 "nbformat": 4,
 "nbformat_minor": 2
}
