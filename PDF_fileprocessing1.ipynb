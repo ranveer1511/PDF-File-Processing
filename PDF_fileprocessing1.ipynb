{
 "cells": [
  {
   "cell_type": "code",
   "execution_count": null,
   "metadata": {},
   "outputs": [],
   "source": [
    "import PyPDF2\n",
    "\n",
    "pdfFileObj = open('D:\\\\TestInputDir\\\\InputDataFiles\\\\meetingminutes1.pdf', 'rb')\n",
    "\n",
    "pdfReader = PyPDF2.PdfFileReader(pdfFileObj)\n",
    "\n",
    "pdfReader.numPages\n",
    "pageObj = pdfReader.getPage(0)\n",
    "\n",
    "pageObj.extractText()\n",
    "len(pageObj.extractText())\n",
    "\n",
    "for pageNum in range(pdfReader.numPages):\n",
    "    print(pdfReader.getPage(pageNum).extractText())\n",
    "    \n",
    "type(pageObj.extractText()) \n",
    "\n",
    "outstr = ''\n",
    "for pageNum in range(1,pdfReader.numPages):\n",
    "    outstr += pdfReader.getPage(pageNum).extractText()\n",
    "    outstr += '\\n'\n",
    "print(outstr)"
   ]
  }
 ],
 "metadata": {
  "kernelspec": {
   "display_name": "Python 3 (ipykernel)",
   "language": "python",
   "name": "python3"
  },
  "language_info": {
   "codemirror_mode": {
    "name": "ipython",
    "version": 3
   },
   "file_extension": ".py",
   "mimetype": "text/x-python",
   "name": "python",
   "nbconvert_exporter": "python",
   "pygments_lexer": "ipython3",
   "version": "3.9.7"
  }
 },
 "nbformat": 4,
 "nbformat_minor": 2
}
